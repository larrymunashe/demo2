{
  "metadata": {
    "language_info": {
      "codemirror_mode": {
        "name": "python",
        "version": 3
      },
      "file_extension": ".py",
      "mimetype": "text/x-python",
      "name": "python",
      "nbconvert_exporter": "python",
      "pygments_lexer": "ipython3",
      "version": "3.8"
    },
    "kernelspec": {
      "name": "python",
      "display_name": "Pyolite",
      "language": "python"
    }
  },
  "nbformat_minor": 4,
  "nbformat": 4,
  "cells": [
    {
      "cell_type": "markdown",
      "source": "# My Jupyter Notebook on IBM Watson Studio",
      "metadata": {
        "tags": []
      }
    },
    {
      "cell_type": "markdown",
      "source": "<b>Lawrence Mavima<b>\n    \nCurrently an Energy Engineer",
      "metadata": {
        "tags": []
      }
    },
    {
      "cell_type": "markdown",
      "source": "_I am interested in data science because i would like to use it to develop an algorithm to use to finally win my fantasy football league_",
      "metadata": {}
    },
    {
      "cell_type": "markdown",
      "source": "### The following code calculates the number of points and goal difference after 38 games, based on the current points, goal difference and games played",
      "metadata": {
        "tags": []
      }
    },
    {
      "cell_type": "code",
      "source": "cur_pts = 18\ncur_gd = 10\ncur_gms_pld = 7\nasl = round((38/cur_gms_pld)*cur_pts)\ngd = round((38/cur_gms_pld)*cur_gd)\ns = \"Arsenal FC will finish the 2022/23 season with {} points and a goal difference of {}\".format(asl,gd)\nprint (s)",
      "metadata": {
        "trusted": true
      },
      "execution_count": 7,
      "outputs": [
        {
          "name": "stdout",
          "text": "Arsenal FC will finish the 2022/23 season with 98 points and a goal difference of 54\n",
          "output_type": "stream"
        }
      ]
    },
    {
      "cell_type": "markdown",
      "source": "***\nHere is how the EPL table will look like athe end of the season\n***\n1. <b>Arsenal<b>\n2. Manchester City\n3. Liverpool\n4. Tottenham\n\nAnd here is a link to the website of the greatest footbal club in the world<a href=\"https://www.arsenal.com/\" target=\"_blank\"> Champions</a>",
      "metadata": {}
    },
    {
      "cell_type": "code",
      "source": "",
      "metadata": {},
      "execution_count": null,
      "outputs": []
    }
  ]
}